{
 "cells": [
  {
   "cell_type": "markdown",
   "metadata": {
    "id": "RJ2u12v1N4wk"
   },
   "source": [
    "Just some imports to get out of the way"
   ]
  },
  {
   "cell_type": "code",
   "execution_count": 1,
   "metadata": {
    "id": "yC20O-RCNrOE",
    "pycharm": {
     "is_executing": true
    }
   },
   "outputs": [],
   "source": [
    "import torch\n",
    "from torch import nn\n",
    "from torch.utils.data import DataLoader\n",
    "#from torchvision import datasets\n",
    "#from torchvision.transforms import ToTensor, Lambda, Compose\n",
    "import matplotlib.pyplot as plt\n",
    "import pandas as pd\n",
    "import numpy as np\n",
    "from sklearn.preprocessing import MinMaxScaler\n",
    "import datetime\n",
    "\n",
    "%matplotlib inline"
   ]
  },
  {
   "cell_type": "code",
   "execution_count": 2,
   "metadata": {
    "id": "jnAr-qY3Y2So"
   },
   "outputs": [],
   "source": [
    "device = \"cuda\" if torch.cuda.is_available() else \"cpu\""
   ]
  },
  {
   "cell_type": "markdown",
   "metadata": {
    "id": "-B76PDi1RS97"
   },
   "source": [
    "## Working with tensors"
   ]
  },
  {
   "cell_type": "code",
   "execution_count": 3,
   "metadata": {
    "id": "xNmchcUWVLBk"
   },
   "outputs": [],
   "source": [
    "n, k = 5, 5"
   ]
  },
  {
   "cell_type": "code",
   "execution_count": 4,
   "metadata": {
    "colab": {
     "base_uri": "https://localhost:8080/"
    },
    "id": "s2FeWFEDSHH6",
    "outputId": "3805d98d-a3e2-4915-aaa9-ec9eabec32b4"
   },
   "outputs": [
    {
     "data": {
      "text/plain": [
       "tensor([ 0,  1,  2,  3,  4,  5,  6,  7,  8,  9, 10, 11, 12, 13, 14, 15, 16, 17,\n",
       "        18, 19, 20, 21, 22, 23, 24])"
      ]
     },
     "execution_count": 4,
     "metadata": {},
     "output_type": "execute_result"
    }
   ],
   "source": [
    "x = torch.tensor([i for i in range(25)])\n",
    "x"
   ]
  },
  {
   "cell_type": "code",
   "execution_count": 5,
   "metadata": {
    "colab": {
     "base_uri": "https://localhost:8080/"
    },
    "id": "hRoGsiFzSajK",
    "outputId": "8fdf82b8-7cd2-4cab-c33d-46ace7ae9ac5"
   },
   "outputs": [
    {
     "data": {
      "text/plain": [
       "tensor([[ 0,  1,  2,  3,  4],\n",
       "        [ 5,  6,  7,  8,  9],\n",
       "        [10, 11, 12, 13, 14],\n",
       "        [15, 16, 17, 18, 19],\n",
       "        [20, 21, 22, 23, 24]])"
      ]
     },
     "execution_count": 5,
     "metadata": {},
     "output_type": "execute_result"
    }
   ],
   "source": [
    "# We can manipulate the shape of our data, adding and subtract dimensions.\n",
    "x = x.reshape(5, 5)\n",
    "x"
   ]
  },
  {
   "cell_type": "code",
   "execution_count": 6,
   "metadata": {
    "colab": {
     "base_uri": "https://localhost:8080/"
    },
    "id": "YKjBv94uUd92",
    "outputId": "bb4c6230-bc14-4f8a-d62c-74c642feaf44"
   },
   "outputs": [
    {
     "data": {
      "text/plain": [
       "tensor([[ 0,  1,  2,  3,  4],\n",
       "        [ 5,  6,  7,  8,  9],\n",
       "        [10, 11, 12, 13, 14],\n",
       "        [15, 16, 17, 18, 19],\n",
       "        [20, 21, 22, 23, 24]])"
      ]
     },
     "execution_count": 6,
     "metadata": {},
     "output_type": "execute_result"
    }
   ],
   "source": [
    "x = x.reshape(5, -1)\n",
    "x"
   ]
  },
  {
   "cell_type": "code",
   "execution_count": 7,
   "metadata": {
    "colab": {
     "base_uri": "https://localhost:8080/"
    },
    "id": "L_wRb0TlUn2r",
    "outputId": "aba55285-c6c9-4bc6-f6b7-8ab327c22a78"
   },
   "outputs": [
    {
     "data": {
      "text/plain": [
       "tensor([[[ 0],\n",
       "         [ 1],\n",
       "         [ 2],\n",
       "         [ 3],\n",
       "         [ 4]],\n",
       "\n",
       "        [[ 5],\n",
       "         [ 6],\n",
       "         [ 7],\n",
       "         [ 8],\n",
       "         [ 9]],\n",
       "\n",
       "        [[10],\n",
       "         [11],\n",
       "         [12],\n",
       "         [13],\n",
       "         [14]],\n",
       "\n",
       "        [[15],\n",
       "         [16],\n",
       "         [17],\n",
       "         [18],\n",
       "         [19]],\n",
       "\n",
       "        [[20],\n",
       "         [21],\n",
       "         [22],\n",
       "         [23],\n",
       "         [24]]])"
      ]
     },
     "execution_count": 7,
     "metadata": {},
     "output_type": "execute_result"
    }
   ],
   "source": [
    "x = x.unsqueeze(2)\n",
    "x"
   ]
  },
  {
   "cell_type": "code",
   "execution_count": 8,
   "metadata": {
    "colab": {
     "base_uri": "https://localhost:8080/"
    },
    "id": "uGaBMMDwUPUA",
    "outputId": "cb043dd4-8881-407a-9050-14c4ee370c35"
   },
   "outputs": [
    {
     "data": {
      "text/plain": [
       "tensor([[ 0,  1,  2,  3,  4],\n",
       "        [ 5,  6,  7,  8,  9],\n",
       "        [10, 11, 12, 13, 14],\n",
       "        [15, 16, 17, 18, 19],\n",
       "        [20, 21, 22, 23, 24]])"
      ]
     },
     "execution_count": 8,
     "metadata": {},
     "output_type": "execute_result"
    }
   ],
   "source": [
    "x = x.squeeze()\n",
    "x"
   ]
  },
  {
   "cell_type": "code",
   "execution_count": 9,
   "metadata": {
    "colab": {
     "base_uri": "https://localhost:8080/"
    },
    "id": "JSNWvzW7VAwQ",
    "outputId": "2fc15306-e1f0-4493-b3a7-65cb8457617b"
   },
   "outputs": [
    {
     "name": "stdout",
     "output_type": "stream",
     "text": [
      "tensor([[1., 0., 0., 0., 0.],\n",
      "        [0., 1., 0., 0., 0.],\n",
      "        [0., 0., 1., 0., 0.],\n",
      "        [0., 0., 0., 1., 0.],\n",
      "        [0., 0., 0., 0., 1.]]) \n",
      "\n",
      "tensor([[0., 0., 0., 0., 0.],\n",
      "        [0., 0., 0., 0., 0.],\n",
      "        [0., 0., 0., 0., 0.],\n",
      "        [0., 0., 0., 0., 0.],\n",
      "        [0., 0., 0., 0., 0.]]) \n",
      "\n",
      "tensor([1, 1, 1, 1, 1])\n"
     ]
    }
   ],
   "source": [
    "# Some useful short hands\n",
    "I = torch.eye(5)\n",
    "zeros = torch.zeros((n, k))\n",
    "ones = torch.ones((n, k))\n",
    "ones_like = torch.ones_like(torch.tensor([_ for _ in range(k)]))\n",
    "\n",
    "print(I, '\\n')\n",
    "print(zeros, '\\n')\n",
    "print(ones_like)"
   ]
  },
  {
   "cell_type": "code",
   "execution_count": 10,
   "metadata": {
    "colab": {
     "base_uri": "https://localhost:8080/"
    },
    "id": "k12rienDV2jc",
    "outputId": "9687b02f-37a7-4268-dcb2-615e8d67c570"
   },
   "outputs": [
    {
     "data": {
      "text/plain": [
       "tensor([[ 0.,  1.,  2.,  3.,  4.],\n",
       "        [ 5.,  6.,  7.,  8.,  9.],\n",
       "        [10., 11., 12., 13., 14.],\n",
       "        [15., 16., 17., 18., 19.],\n",
       "        [20., 21., 22., 23., 24.]])"
      ]
     },
     "execution_count": 10,
     "metadata": {},
     "output_type": "execute_result"
    }
   ],
   "source": [
    "x.type(torch.float)"
   ]
  },
  {
   "cell_type": "markdown",
   "metadata": {
    "id": "fNzLigE-VuRO"
   },
   "source": [
    "## How about some math"
   ]
  },
  {
   "cell_type": "code",
   "execution_count": 11,
   "metadata": {
    "colab": {
     "base_uri": "https://localhost:8080/"
    },
    "id": "gBsE0ifZVwzY",
    "outputId": "c853b191-d842-4571-cdc7-62132900d8c5"
   },
   "outputs": [
    {
     "data": {
      "text/plain": [
       "tensor([[ 0,  1,  2,  3,  4],\n",
       "        [ 5,  6,  7,  8,  9],\n",
       "        [10, 11, 12, 13, 14],\n",
       "        [15, 16, 17, 18, 19],\n",
       "        [20, 21, 22, 23, 24]])"
      ]
     },
     "execution_count": 11,
     "metadata": {},
     "output_type": "execute_result"
    }
   ],
   "source": [
    "x"
   ]
  },
  {
   "cell_type": "code",
   "execution_count": 12,
   "metadata": {
    "colab": {
     "base_uri": "https://localhost:8080/"
    },
    "id": "J3_SYZ46TAvG",
    "outputId": "3dac64da-92c3-4148-c214-7d4c05a75e76"
   },
   "outputs": [
    {
     "data": {
      "text/plain": [
       "tensor([[  0,   1,   4,   9,  16],\n",
       "        [ 25,  36,  49,  64,  81],\n",
       "        [100, 121, 144, 169, 196],\n",
       "        [225, 256, 289, 324, 361],\n",
       "        [400, 441, 484, 529, 576]])"
      ]
     },
     "execution_count": 12,
     "metadata": {},
     "output_type": "execute_result"
    }
   ],
   "source": [
    "x ** 2"
   ]
  },
  {
   "cell_type": "code",
   "execution_count": 13,
   "metadata": {
    "colab": {
     "base_uri": "https://localhost:8080/"
    },
    "id": "fle2CPLETBul",
    "outputId": "93c79b85-3ed4-4f53-c975-4892871f5f23"
   },
   "outputs": [
    {
     "data": {
      "text/plain": [
       "tensor([[10, 11, 12, 13, 14],\n",
       "        [15, 16, 17, 18, 19],\n",
       "        [20, 21, 22, 23, 24],\n",
       "        [25, 26, 27, 28, 29],\n",
       "        [30, 31, 32, 33, 34]])"
      ]
     },
     "execution_count": 13,
     "metadata": {},
     "output_type": "execute_result"
    }
   ],
   "source": [
    "x + 10"
   ]
  },
  {
   "cell_type": "code",
   "execution_count": 14,
   "metadata": {
    "colab": {
     "base_uri": "https://localhost:8080/"
    },
    "id": "xt2DQH-BWOj4",
    "outputId": "a5bd36f9-1788-45d5-87b0-1e292d5bdfd9"
   },
   "outputs": [
    {
     "data": {
      "text/plain": [
       "tensor([[1.0000, 0.5000, 0.3333, 0.2500, 0.2000],\n",
       "        [0.1667, 0.1429, 0.1250, 0.1111, 0.1000],\n",
       "        [0.0909, 0.0833, 0.0769, 0.0714, 0.0667],\n",
       "        [0.0625, 0.0588, 0.0556, 0.0526, 0.0500],\n",
       "        [0.0476, 0.0455, 0.0435, 0.0417, 0.0400]])"
      ]
     },
     "execution_count": 14,
     "metadata": {},
     "output_type": "execute_result"
    }
   ],
   "source": [
    "1 / (x + 1)"
   ]
  },
  {
   "cell_type": "code",
   "execution_count": 15,
   "metadata": {
    "colab": {
     "base_uri": "https://localhost:8080/"
    },
    "id": "dVZCyhY-TITp",
    "outputId": "b6271075-b0d4-4314-de31-a7e84562dbfb"
   },
   "outputs": [
    {
     "data": {
      "text/plain": [
       "tensor([[ 1,  3,  5,  7,  9],\n",
       "        [ 6,  8, 10, 12, 14],\n",
       "        [11, 13, 15, 17, 19],\n",
       "        [16, 18, 20, 22, 24],\n",
       "        [21, 23, 25, 27, 29]])"
      ]
     },
     "execution_count": 15,
     "metadata": {},
     "output_type": "execute_result"
    }
   ],
   "source": [
    "x + torch.tensor([1, 2, 3, 4, 5])"
   ]
  },
  {
   "cell_type": "code",
   "execution_count": 16,
   "metadata": {
    "colab": {
     "base_uri": "https://localhost:8080/"
    },
    "id": "pnR82fyoSdlh",
    "outputId": "7b0c60ed-5ca8-4649-b030-59111303a0ea"
   },
   "outputs": [
    {
     "data": {
      "text/plain": [
       "tensor([[ 5.1532, 21.8379, 13.8088,  8.5903,  0.9431],\n",
       "        [ 3.4526, 16.0344, 10.0737, 22.3892,  6.5703],\n",
       "        [22.1282,  0.8602,  5.7745, 11.8369, 17.0561],\n",
       "        [17.1448, 15.1211,  9.0148, 20.0356, 15.3469],\n",
       "        [ 7.4655,  5.1678,  3.6377, 11.6095, 20.8208]])"
      ]
     },
     "execution_count": 16,
     "metadata": {},
     "output_type": "execute_result"
    }
   ],
   "source": [
    "y = torch.rand(5, 5) * 25\n",
    "y"
   ]
  },
  {
   "cell_type": "code",
   "execution_count": 17,
   "metadata": {
    "colab": {
     "base_uri": "https://localhost:8080/"
    },
    "id": "NEdM-7HiSvpN",
    "outputId": "0bb69af9-4c3b-4290-ddd4-1cb32adc7caf"
   },
   "outputs": [
    {
     "data": {
      "text/plain": [
       "tensor([[  0.0000,  21.8379,  27.6175,  25.7708,   3.7726],\n",
       "        [ 17.2630,  96.2064,  70.5162, 179.1135,  59.1328],\n",
       "        [221.2823,   9.4623,  69.2945, 153.8802, 238.7858],\n",
       "        [257.1726, 241.9381, 153.2516, 360.6410, 291.5908],\n",
       "        [149.3099, 108.5236,  80.0294, 267.0187, 499.7001]])"
      ]
     },
     "execution_count": 17,
     "metadata": {},
     "output_type": "execute_result"
    }
   ],
   "source": [
    "x * y"
   ]
  },
  {
   "cell_type": "code",
   "execution_count": 18,
   "metadata": {
    "colab": {
     "base_uri": "https://localhost:8080/"
    },
    "id": "PEhKahIvS0id",
    "outputId": "90f716b9-b6b8-4141-8896-3d1c89a2c370"
   },
   "outputs": [
    {
     "data": {
      "text/plain": [
       "tensor([[ 0,  5, 10, 15, 20],\n",
       "        [ 1,  6, 11, 16, 21],\n",
       "        [ 2,  7, 12, 17, 22],\n",
       "        [ 3,  8, 13, 18, 23],\n",
       "        [ 4,  9, 14, 19, 24]])"
      ]
     },
     "execution_count": 18,
     "metadata": {},
     "output_type": "execute_result"
    }
   ],
   "source": [
    "x.T"
   ]
  },
  {
   "cell_type": "markdown",
   "metadata": {
    "id": "00JZNEvdTrLz"
   },
   "source": [
    "## Lets work with some data"
   ]
  },
  {
   "cell_type": "code",
   "execution_count": 20,
   "metadata": {
    "colab": {
     "base_uri": "https://localhost:8080/"
    },
    "id": "OuSMXYC2OLhU",
    "outputId": "7c41bd0e-5cc9-482d-fc60-7e93f21cdf21"
   },
   "outputs": [
    {
     "name": "stdout",
     "output_type": "stream",
     "text": [
      "   longitude  latitude  housing_median_age  total_rooms  total_bedrooms  \\\n",
      "0    -114.31     34.19                15.0       5612.0          1283.0   \n",
      "1    -114.47     34.40                19.0       7650.0          1901.0   \n",
      "2    -114.56     33.69                17.0        720.0           174.0   \n",
      "3    -114.57     33.64                14.0       1501.0           337.0   \n",
      "4    -114.57     33.57                20.0       1454.0           326.0   \n",
      "\n",
      "   population  households  median_income  median_house_value  \n",
      "0      1015.0       472.0         1.4936             66900.0  \n",
      "1      1129.0       463.0         1.8200             80100.0  \n",
      "2       333.0       117.0         1.6509             85700.0  \n",
      "3       515.0       226.0         3.1917             73400.0  \n",
      "4       624.0       262.0         1.9250             65500.0  \n"
     ]
    }
   ],
   "source": [
    "traindf = pd.read_csv('california_housing_train.csv')\n",
    "testdf = pd.read_csv('california_housing_test.csv')\n",
    "\n",
    "print(traindf[:5])"
   ]
  },
  {
   "cell_type": "code",
   "execution_count": 21,
   "metadata": {
    "colab": {
     "base_uri": "https://localhost:8080/"
    },
    "id": "_wdZp9vo8YJl",
    "outputId": "17464812-8774-4669-c6ab-ba74b3e229d0"
   },
   "outputs": [
    {
     "data": {
      "text/plain": [
       "longitude              -114.3100\n",
       "latitude                 34.1900\n",
       "housing_median_age       15.0000\n",
       "total_rooms            5612.0000\n",
       "total_bedrooms         1283.0000\n",
       "population             1015.0000\n",
       "households              472.0000\n",
       "median_income             1.4936\n",
       "median_house_value    66900.0000\n",
       "Name: 0, dtype: float64"
      ]
     },
     "execution_count": 21,
     "metadata": {},
     "output_type": "execute_result"
    }
   ],
   "source": [
    "traindf.iloc[0]"
   ]
  },
  {
   "cell_type": "code",
   "execution_count": 22,
   "metadata": {
    "id": "LergLj3cA7km"
   },
   "outputs": [],
   "source": [
    "sc = MinMaxScaler()\n",
    "train_numpy  = sc.fit_transform(traindf)\n",
    "test_numpy = sc.transform(testdf)"
   ]
  },
  {
   "cell_type": "code",
   "execution_count": 23,
   "metadata": {
    "colab": {
     "base_uri": "https://localhost:8080/"
    },
    "id": "uuuVhYKnBfvM",
    "outputId": "0787a1cd-b9b7-4a0c-896c-7ac91883f042"
   },
   "outputs": [
    {
     "data": {
      "text/plain": [
       "array([[1.        , 0.17534538, 0.2745098 , 0.14788454, 0.19894475,\n",
       "        0.02836402, 0.07745437, 0.06853009, 0.10701193],\n",
       "       [0.98406375, 0.19766206, 0.35294118, 0.20160801, 0.29484792,\n",
       "        0.03155918, 0.07597435, 0.09104012, 0.13422831],\n",
       "       [0.9750996 , 0.12221041, 0.31372549, 0.01892711, 0.02684668,\n",
       "        0.00924914, 0.01907581, 0.07937822, 0.14577466],\n",
       "       [0.97410359, 0.11689692, 0.25490196, 0.03951496, 0.05214153,\n",
       "        0.01435018, 0.03700049, 0.18563882, 0.12041394],\n",
       "       [0.97410359, 0.10945802, 0.37254902, 0.038276  , 0.05043451,\n",
       "        0.0174052 , 0.04292057, 0.0982814 , 0.10412534]])"
      ]
     },
     "execution_count": 23,
     "metadata": {},
     "output_type": "execute_result"
    }
   ],
   "source": [
    "train_numpy[:5]"
   ]
  },
  {
   "cell_type": "code",
   "execution_count": 24,
   "metadata": {
    "colab": {
     "base_uri": "https://localhost:8080/"
    },
    "id": "WXyzi5yNRv9n",
    "outputId": "27812f19-bb1e-43c7-dbab-be0d115ccca9"
   },
   "outputs": [
    {
     "name": "stdout",
     "output_type": "stream",
     "text": [
      "tensor([[1.0000, 0.1753, 0.2745, 0.1479, 0.1989, 0.0284, 0.0775, 0.0685, 0.1070],\n",
      "        [0.9841, 0.1977, 0.3529, 0.2016, 0.2948, 0.0316, 0.0760, 0.0910, 0.1342],\n",
      "        [0.9751, 0.1222, 0.3137, 0.0189, 0.0268, 0.0092, 0.0191, 0.0794, 0.1458],\n",
      "        [0.9741, 0.1169, 0.2549, 0.0395, 0.0521, 0.0144, 0.0370, 0.1856, 0.1204],\n",
      "        [0.9741, 0.1095, 0.3725, 0.0383, 0.0504, 0.0174, 0.0429, 0.0983, 0.1041]],\n",
      "       dtype=torch.float64)\n"
     ]
    }
   ],
   "source": [
    "train_tensor = torch.tensor(train_numpy)\n",
    "print(train_tensor[:5])"
   ]
  },
  {
   "cell_type": "code",
   "execution_count": null,
   "metadata": {
    "id": "umsvoptpOS5a"
   },
   "outputs": [],
   "source": [
    "class CustomHousingDataset(torch.utils.data.Dataset):\n",
    "  def __init__(self, file, scaler):\n",
    "    self.df = pd.read_csv(file)\n",
    "    self.sc = scaler\n",
    "\n",
    "  def __len__(self):\n",
    "    return self.df.shape[0]\n",
    "  \n",
    "  def __getitem__(self, idx):\n",
    "    raw = self.df.iloc[idx].values\n",
    "    if type(idx) == int:\n",
    "      raw = raw.reshape(1, -1)\n",
    "    raw = self.sc.transform(raw)\n",
    "    data = torch.tensor(raw[:, :-1], dtype=torch.float32)\n",
    "    label = torch.tensor(raw[:, -1], dtype=torch.float32)\n",
    "    return data, label"
   ]
  },
  {
   "cell_type": "code",
   "execution_count": null,
   "metadata": {
    "id": "Blrs0xRwP6gP"
   },
   "outputs": [],
   "source": [
    "train_data = CustomHousingDataset('sample_data/california_housing_train.csv', sc)\n",
    "test_data = CustomHousingDataset('sample_data/california_housing_test.csv', sc)\n",
    "\n",
    "train_loader = DataLoader(train_data, batch_size=64, shuffle=True)\n",
    "test_loader = DataLoader(test_data, batch_size=64, shuffle=True)"
   ]
  },
  {
   "cell_type": "code",
   "execution_count": null,
   "metadata": {
    "colab": {
     "base_uri": "https://localhost:8080/"
    },
    "id": "Mi516cGHB71J",
    "outputId": "669ee254-1125-4444-ec1b-d7d1f700707a"
   },
   "outputs": [],
   "source": [
    "train_data[100:110]"
   ]
  },
  {
   "cell_type": "markdown",
   "metadata": {
    "id": "KT0Cb12ndYow"
   },
   "source": [
    "## LETS MODEL\n",
    "We'll start by defining some basic models, loss functions, and optimizers. These are the fundamental building blocks for any Deep Learning platform.\n",
    "\n",
    "Some common loss functions:\n",
    "  - CrossEntropy\n",
    "  - NLL (negative log likelihood)\n",
    "  - BCE (binary cross entropy)\n",
    "  - L1\n",
    "  - MSE (mean sqaure error aka L2)\n",
    "\n",
    "And for optimizers we use some form of gradient descent:\n",
    "- SGD (stochastic gradient decent)\n",
    "- RMSprop\n",
    "- Adagrad\n",
    "- Adam\n",
    "\n",
    "Once we get here, would could also do things like schedule the learning rate, etc."
   ]
  },
  {
   "cell_type": "code",
   "execution_count": null,
   "metadata": {
    "id": "WP3bROntQYnZ"
   },
   "outputs": [],
   "source": [
    "class FeedForward(nn.Module):\n",
    "  def __init__(self):\n",
    "    super(FeedForward, self).__init__()\n",
    "    self.linear1 = nn.Linear(8, 32)\n",
    "    self.relu1 = nn.LeakyReLU()\n",
    "    self.linear2 = nn.Linear(32, 16)\n",
    "    self.relu2 = nn.LeakyReLU()\n",
    "    self.linear_out = nn.Linear(16, 1)\n",
    "\n",
    "  def forward(self, x):\n",
    "    x = self.linear1(x)\n",
    "    x = self.relu1(x)\n",
    "    x = self.linear2(x)\n",
    "    x = self.relu2(x)\n",
    "    x = self.linear_out(x)\n",
    "    return x\n",
    "\n",
    "class moreAdvanced(nn.Module):\n",
    "  def __init__(self, size_in, size_out, device=device):\n",
    "    super(moreAdvanced, self).__init__()\n",
    "    self.linearStack = nn.Sequential(\n",
    "        nn.Linear(size_in, 32),\n",
    "        nn.LeakyReLU(),\n",
    "        nn.Linear(32, 16),\n",
    "        nn.LeakyReLU(),\n",
    "        nn.Linear(16, size_out)\n",
    "    )\n",
    "  \n",
    "  def forward(self, x):\n",
    "    x = self.linearStack(x)\n",
    "    return x"
   ]
  },
  {
   "cell_type": "code",
   "execution_count": null,
   "metadata": {
    "colab": {
     "base_uri": "https://localhost:8080/"
    },
    "id": "fLc_7fj0YTgB",
    "outputId": "85c6e2e7-953d-4ca9-f8b1-e108feececcd"
   },
   "outputs": [],
   "source": [
    "ff = FeedForward()\n",
    "print(ff)"
   ]
  },
  {
   "cell_type": "code",
   "execution_count": null,
   "metadata": {
    "colab": {
     "base_uri": "https://localhost:8080/"
    },
    "id": "RViomU7BYXSI",
    "outputId": "2845b47a-2bb1-4706-a595-129a4b120c76"
   },
   "outputs": [],
   "source": [
    "moreAdv = moreAdvanced(8, 1)\n",
    "print(moreAdv)"
   ]
  },
  {
   "cell_type": "code",
   "execution_count": null,
   "metadata": {
    "colab": {
     "base_uri": "https://localhost:8080/"
    },
    "id": "tiDqxsVEYh0Y",
    "outputId": "ab9b32a9-b4c1-4a7d-db38-fda2f8c8490b"
   },
   "outputs": [],
   "source": [
    "loss_func = nn.MSELoss()\n",
    "optimizer = torch.optim.Adam(ff.parameters(), lr=1e-2)\n",
    "ff.eval()\n",
    "a, b = train_data[0]\n",
    "with torch.no_grad():\n",
    "  pred = ff(a)\n",
    "print('prediction:', pred)\n",
    "print('target:', b)\n",
    "print('error:', loss_func(pred, b.unsqueeze(0)))"
   ]
  },
  {
   "cell_type": "markdown",
   "metadata": {
    "id": "kToju96kfuJp"
   },
   "source": [
    "### This is what we want to do, over the entire training data."
   ]
  },
  {
   "cell_type": "code",
   "execution_count": null,
   "metadata": {
    "id": "bn5wlVyrdIkP"
   },
   "outputs": [],
   "source": [
    "def train(dataloader, model, loss_func, optimizer):\n",
    "  model.train()\n",
    "  train_loss = []\n",
    "  \n",
    "  now = datetime.datetime.now()\n",
    "  for batch, (X, y) in enumerate(dataloader):\n",
    "    # ignore the first time we see this\n",
    "    # second time why is gpu better than cpu for this?\n",
    "    X, y = X.to(device), y.to(device)\n",
    "\n",
    "    # make some predictions and get the error\n",
    "    pred = model(X)\n",
    "    loss = loss_func(pred, y.unsqueeze(1))\n",
    "\n",
    "    # where the magic happens\n",
    "    # backpropogation\n",
    "    optimizer.zero_grad()\n",
    "    loss.backward()\n",
    "    optimizer.step()\n",
    "\n",
    "    if batch % 10 == 0:\n",
    "      loss, current = loss.item(), batch * len(X)\n",
    "      iters = 10 * len(X)\n",
    "      then = datetime.datetime.now()\n",
    "      iters /= (then - now).total_seconds()\n",
    "      print(f\"loss: {loss:>6f} [{current:>5d}/{17000}] ({iters:.1f} its/sec)\")\n",
    "      now = then\n",
    "      train_loss.append(loss)\n",
    "  return train_loss"
   ]
  },
  {
   "cell_type": "code",
   "execution_count": null,
   "metadata": {
    "id": "bDgB95AGjsGs"
   },
   "outputs": [],
   "source": [
    "def test(dataloader, model, loss_func):\n",
    "  size = len(dataloader)\n",
    "  num_batches = 170\n",
    "  model.eval()\n",
    "  test_loss = 0\n",
    "\n",
    "  with torch.no_grad():\n",
    "    for X, y in dataloader:\n",
    "      X, y = X.to(device), y.to(device)\n",
    "      pred = model(X)\n",
    "      test_loss += loss_func(pred, y.unsqueeze(1)).item()\n",
    "  test_loss /= num_batches\n",
    "  print(f\"Avg Loss: {test_loss:>8f}\\n\")\n",
    "  return test_loss"
   ]
  },
  {
   "cell_type": "code",
   "execution_count": null,
   "metadata": {
    "colab": {
     "base_uri": "https://localhost:8080/",
     "height": 1000
    },
    "id": "XwUks9nVdIX8",
    "outputId": "a9f68a02-bffd-4824-a125-753e47524b18"
   },
   "outputs": [],
   "source": [
    "ff = FeedForward().to(device)\n",
    "loss_func = nn.MSELoss()\n",
    "optimizer = torch.optim.Adam(ff.parameters(), lr=1e-3)\n",
    "epochs = 10\n",
    "train_loss = []\n",
    "test_loss = []\n",
    "for t in range(epochs):\n",
    "  print(f\"Epoch {t+1}\\n------------------------------- \\n\")\n",
    "  losses = train(train_loader, ff, loss_func, optimizer)\n",
    "  train_loss.append(losses)\n",
    "  test_loss.append(test(test_loader, ff, loss_func))\n",
    "\n",
    "# Could add a condition that interrupts training when the loss doesn't change much\n",
    "print('Done!')"
   ]
  },
  {
   "cell_type": "code",
   "execution_count": null,
   "metadata": {
    "colab": {
     "base_uri": "https://localhost:8080/",
     "height": 283
    },
    "id": "xh24R8-VdIN8",
    "outputId": "528394c3-7828-4a11-c0bc-8f844ee6627f"
   },
   "outputs": [],
   "source": [
    "plt.plot([i for i in range(len(train_loss))], torch.tensor(train_loss).mean(axis=1))"
   ]
  },
  {
   "cell_type": "code",
   "execution_count": null,
   "metadata": {
    "colab": {
     "base_uri": "https://localhost:8080/",
     "height": 283
    },
    "id": "lbFlT5DCtWp9",
    "outputId": "d96f07ab-f6ec-471c-9283-d26ce270ed98"
   },
   "outputs": [],
   "source": [
    "plt.plot([i for i in range(len(test_loss))], test_loss)"
   ]
  },
  {
   "cell_type": "code",
   "execution_count": null,
   "metadata": {
    "colab": {
     "base_uri": "https://localhost:8080/"
    },
    "id": "Tck5Qq4dIUTB",
    "outputId": "fa80bd78-0224-4a21-b2ed-51a1614417a4"
   },
   "outputs": [],
   "source": [
    "ff.eval()\n",
    "with torch.no_grad():\n",
    "  x, y = train_data[4]\n",
    "  pred = ff(x)\n",
    "  print(pred)\n",
    "  print(y)\n",
    "print(loss_func(pred, y.unsqueeze(1)).item())"
   ]
  },
  {
   "cell_type": "code",
   "execution_count": null,
   "metadata": {
    "id": "7GnGa6CUIpkr"
   },
   "outputs": [],
   "source": []
  },
  {
   "cell_type": "code",
   "execution_count": null,
   "metadata": {
    "id": "bW1v5fYiIpiB"
   },
   "outputs": [],
   "source": []
  },
  {
   "cell_type": "markdown",
   "metadata": {
    "id": "Hjgfk5c4iKgr"
   },
   "source": [
    "## If there's time"
   ]
  },
  {
   "cell_type": "code",
   "execution_count": null,
   "metadata": {
    "id": "w2pTNlxncb1O"
   },
   "outputs": [],
   "source": [
    "class evenMore(nn.Module):\n",
    "  def __init__(self, s1, s2, s3):\n",
    "    super(evenMore, self).__init__()\n",
    "    self.m1 = moreAdvanced(s1, s2)\n",
    "    self.relu1 = nn.ReLU()\n",
    "    self.m2 = moreAdvanced(s2, s3)\n",
    "\n",
    "  def forward(self, x):\n",
    "    x = self.m1(x)\n",
    "    x = self.relu1(x)\n",
    "    x = self.m2(x)\n",
    "    return x"
   ]
  },
  {
   "cell_type": "code",
   "execution_count": null,
   "metadata": {
    "colab": {
     "base_uri": "https://localhost:8080/"
    },
    "id": "QBRJoI6Sc_oU",
    "outputId": "d72818f4-3976-4f65-a8ac-2a80a5a3cf1f"
   },
   "outputs": [],
   "source": [
    "em = evenMore(8, 8, 1)\n",
    "em"
   ]
  },
  {
   "cell_type": "code",
   "execution_count": null,
   "metadata": {
    "id": "I9Uj_4mudDFY"
   },
   "outputs": [],
   "source": []
  }
 ],
 "metadata": {
  "accelerator": "GPU",
  "colab": {
   "collapsed_sections": [],
   "name": "Pytorch Demo",
   "provenance": []
  },
  "kernelspec": {
   "display_name": "Python 3 (ipykernel)",
   "language": "python",
   "name": "python3"
  },
  "language_info": {
   "codemirror_mode": {
    "name": "ipython",
    "version": 3
   },
   "file_extension": ".py",
   "mimetype": "text/x-python",
   "name": "python",
   "nbconvert_exporter": "python",
   "pygments_lexer": "ipython3",
   "version": "3.9.16"
  }
 },
 "nbformat": 4,
 "nbformat_minor": 1
}